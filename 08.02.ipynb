{
 "cells": [
  {
   "cell_type": "code",
   "execution_count": 4,
   "metadata": {},
   "outputs": [],
   "source": [
    "import streamlit as st \n",
    "import pandas\n",
    "\n",
    "\n",
    "data = {\n",
    "  'Series_1':[1, 3, 4, 5, 7],\n",
    "  'Series 2':[10, 30, 40, 100, 250]\n",
    "}\n",
    "\n",
    "df = pandas.DataFrame(data)\n",
    "\n",
    "st.title('Our First Streamlit App')\n",
    "st.subheader('Introducing Streamlit in Automate Everything with Python')\n",
    "st.write('''This is our first Web App.\n",
    "Enjoy it!\n",
    "''')\n",
    "st.write(df)\n",
    "st.line_chart(df)\n",
    "st.area_chart(df)\n",
    "\n",
    "myslider = st.slider('Celsius')\n",
    "st.write(myslider, 'in Fahrenheit is', myslider * 9/5 + 32)\n"
   ]
  },
  {
   "cell_type": "code",
   "execution_count": 12,
   "metadata": {},
   "outputs": [
    {
     "ename": "SyntaxError",
     "evalue": "invalid syntax (<ipython-input-12-0ce322a1e81c>, line 1)",
     "output_type": "error",
     "traceback": [
      "\u001b[1;36m  File \u001b[1;32m\"<ipython-input-12-0ce322a1e81c>\"\u001b[1;36m, line \u001b[1;32m1\u001b[0m\n\u001b[1;33m    gh auth login\u001b[0m\n\u001b[1;37m          ^\u001b[0m\n\u001b[1;31mSyntaxError\u001b[0m\u001b[1;31m:\u001b[0m invalid syntax\n"
     ]
    }
   ],
   "source": [
    "https://github.com/Leoramachoti/Leo.git"
   ]
  }
 ],
 "metadata": {
  "kernelspec": {
   "display_name": "Python 3",
   "language": "python",
   "name": "python3"
  },
  "language_info": {
   "codemirror_mode": {
    "name": "ipython",
    "version": 3
   },
   "file_extension": ".py",
   "mimetype": "text/x-python",
   "name": "python",
   "nbconvert_exporter": "python",
   "pygments_lexer": "ipython3",
   "version": "3.7.4"
  }
 },
 "nbformat": 4,
 "nbformat_minor": 2
}
